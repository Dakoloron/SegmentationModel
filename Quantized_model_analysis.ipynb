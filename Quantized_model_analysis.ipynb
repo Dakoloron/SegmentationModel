{
  "nbformat": 4,
  "nbformat_minor": 0,
  "metadata": {
    "accelerator": "GPU",
    "colab": {
      "name": "Quantized_model_analysis",
      "provenance": [],
      "collapsed_sections": [],
      "toc_visible": true
    },
    "kernelspec": {
      "display_name": "Python 3",
      "name": "python3"
    },
    "widgets": {
      "application/vnd.jupyter.widget-state+json": {
        "231a5162a0ef4fc1af2fb29915fd0558": {
          "model_module": "@jupyter-widgets/controls",
          "model_name": "HBoxModel",
          "state": {
            "_view_name": "HBoxView",
            "_dom_classes": [],
            "_model_name": "HBoxModel",
            "_view_module": "@jupyter-widgets/controls",
            "_model_module_version": "1.5.0",
            "_view_count": null,
            "_view_module_version": "1.5.0",
            "box_style": "",
            "layout": "IPY_MODEL_b178dd226bd44da1933a6a103f7e3e93",
            "_model_module": "@jupyter-widgets/controls",
            "children": [
              "IPY_MODEL_baf78db68ae44116b2f9d4f05d15354a",
              "IPY_MODEL_0ebaa0deca3e41e9ad93702c679f8c5f"
            ]
          }
        },
        "b178dd226bd44da1933a6a103f7e3e93": {
          "model_module": "@jupyter-widgets/base",
          "model_name": "LayoutModel",
          "state": {
            "_view_name": "LayoutView",
            "grid_template_rows": null,
            "right": null,
            "justify_content": null,
            "_view_module": "@jupyter-widgets/base",
            "overflow": null,
            "_model_module_version": "1.2.0",
            "_view_count": null,
            "flex_flow": null,
            "width": null,
            "min_width": null,
            "border": null,
            "align_items": null,
            "bottom": null,
            "_model_module": "@jupyter-widgets/base",
            "top": null,
            "grid_column": null,
            "overflow_y": null,
            "overflow_x": null,
            "grid_auto_flow": null,
            "grid_area": null,
            "grid_template_columns": null,
            "flex": null,
            "_model_name": "LayoutModel",
            "justify_items": null,
            "grid_row": null,
            "max_height": null,
            "align_content": null,
            "visibility": null,
            "align_self": null,
            "height": null,
            "min_height": null,
            "padding": null,
            "grid_auto_rows": null,
            "grid_gap": null,
            "max_width": null,
            "order": null,
            "_view_module_version": "1.2.0",
            "grid_template_areas": null,
            "object_position": null,
            "object_fit": null,
            "grid_auto_columns": null,
            "margin": null,
            "display": null,
            "left": null
          }
        },
        "baf78db68ae44116b2f9d4f05d15354a": {
          "model_module": "@jupyter-widgets/controls",
          "model_name": "FloatProgressModel",
          "state": {
            "_view_name": "ProgressView",
            "style": "IPY_MODEL_932b4ff862bb414ca7c7fd214ea0d2e7",
            "_dom_classes": [],
            "description": "100%",
            "_model_name": "FloatProgressModel",
            "bar_style": "success",
            "max": 128,
            "_view_module": "@jupyter-widgets/controls",
            "_model_module_version": "1.5.0",
            "value": 128,
            "_view_count": null,
            "_view_module_version": "1.5.0",
            "orientation": "horizontal",
            "min": 0,
            "description_tooltip": null,
            "_model_module": "@jupyter-widgets/controls",
            "layout": "IPY_MODEL_59732f3d9e2a444081c1145a571ec52d"
          }
        },
        "0ebaa0deca3e41e9ad93702c679f8c5f": {
          "model_module": "@jupyter-widgets/controls",
          "model_name": "HTMLModel",
          "state": {
            "_view_name": "HTMLView",
            "style": "IPY_MODEL_164ec95eded54ba6a06f8ef8b5a2402c",
            "_dom_classes": [],
            "description": "",
            "_model_name": "HTMLModel",
            "placeholder": "​",
            "_view_module": "@jupyter-widgets/controls",
            "_model_module_version": "1.5.0",
            "value": " 128/128 [20:33&lt;00:00,  9.63s/it]",
            "_view_count": null,
            "_view_module_version": "1.5.0",
            "description_tooltip": null,
            "_model_module": "@jupyter-widgets/controls",
            "layout": "IPY_MODEL_9d53c7e0eb194e1e94f1d5b84140006a"
          }
        },
        "932b4ff862bb414ca7c7fd214ea0d2e7": {
          "model_module": "@jupyter-widgets/controls",
          "model_name": "ProgressStyleModel",
          "state": {
            "_view_name": "StyleView",
            "_model_name": "ProgressStyleModel",
            "description_width": "initial",
            "_view_module": "@jupyter-widgets/base",
            "_model_module_version": "1.5.0",
            "_view_count": null,
            "_view_module_version": "1.2.0",
            "bar_color": null,
            "_model_module": "@jupyter-widgets/controls"
          }
        },
        "59732f3d9e2a444081c1145a571ec52d": {
          "model_module": "@jupyter-widgets/base",
          "model_name": "LayoutModel",
          "state": {
            "_view_name": "LayoutView",
            "grid_template_rows": null,
            "right": null,
            "justify_content": null,
            "_view_module": "@jupyter-widgets/base",
            "overflow": null,
            "_model_module_version": "1.2.0",
            "_view_count": null,
            "flex_flow": null,
            "width": null,
            "min_width": null,
            "border": null,
            "align_items": null,
            "bottom": null,
            "_model_module": "@jupyter-widgets/base",
            "top": null,
            "grid_column": null,
            "overflow_y": null,
            "overflow_x": null,
            "grid_auto_flow": null,
            "grid_area": null,
            "grid_template_columns": null,
            "flex": null,
            "_model_name": "LayoutModel",
            "justify_items": null,
            "grid_row": null,
            "max_height": null,
            "align_content": null,
            "visibility": null,
            "align_self": null,
            "height": null,
            "min_height": null,
            "padding": null,
            "grid_auto_rows": null,
            "grid_gap": null,
            "max_width": null,
            "order": null,
            "_view_module_version": "1.2.0",
            "grid_template_areas": null,
            "object_position": null,
            "object_fit": null,
            "grid_auto_columns": null,
            "margin": null,
            "display": null,
            "left": null
          }
        },
        "164ec95eded54ba6a06f8ef8b5a2402c": {
          "model_module": "@jupyter-widgets/controls",
          "model_name": "DescriptionStyleModel",
          "state": {
            "_view_name": "StyleView",
            "_model_name": "DescriptionStyleModel",
            "description_width": "",
            "_view_module": "@jupyter-widgets/base",
            "_model_module_version": "1.5.0",
            "_view_count": null,
            "_view_module_version": "1.2.0",
            "_model_module": "@jupyter-widgets/controls"
          }
        },
        "9d53c7e0eb194e1e94f1d5b84140006a": {
          "model_module": "@jupyter-widgets/base",
          "model_name": "LayoutModel",
          "state": {
            "_view_name": "LayoutView",
            "grid_template_rows": null,
            "right": null,
            "justify_content": null,
            "_view_module": "@jupyter-widgets/base",
            "overflow": null,
            "_model_module_version": "1.2.0",
            "_view_count": null,
            "flex_flow": null,
            "width": null,
            "min_width": null,
            "border": null,
            "align_items": null,
            "bottom": null,
            "_model_module": "@jupyter-widgets/base",
            "top": null,
            "grid_column": null,
            "overflow_y": null,
            "overflow_x": null,
            "grid_auto_flow": null,
            "grid_area": null,
            "grid_template_columns": null,
            "flex": null,
            "_model_name": "LayoutModel",
            "justify_items": null,
            "grid_row": null,
            "max_height": null,
            "align_content": null,
            "visibility": null,
            "align_self": null,
            "height": null,
            "min_height": null,
            "padding": null,
            "grid_auto_rows": null,
            "grid_gap": null,
            "max_width": null,
            "order": null,
            "_view_module_version": "1.2.0",
            "grid_template_areas": null,
            "object_position": null,
            "object_fit": null,
            "grid_auto_columns": null,
            "margin": null,
            "display": null,
            "left": null
          }
        },
        "9b7237ee6cb446fe8429d7545d5b3392": {
          "model_module": "@jupyter-widgets/controls",
          "model_name": "HBoxModel",
          "state": {
            "_view_name": "HBoxView",
            "_dom_classes": [],
            "_model_name": "HBoxModel",
            "_view_module": "@jupyter-widgets/controls",
            "_model_module_version": "1.5.0",
            "_view_count": null,
            "_view_module_version": "1.5.0",
            "box_style": "",
            "layout": "IPY_MODEL_5fdcf03c69f34450b19ed9911ee6e27e",
            "_model_module": "@jupyter-widgets/controls",
            "children": [
              "IPY_MODEL_43bee12f94c24c6688f7833fd980c3f1",
              "IPY_MODEL_3b8a8bff56f3461a9dbbcfd09198fa03"
            ]
          }
        },
        "5fdcf03c69f34450b19ed9911ee6e27e": {
          "model_module": "@jupyter-widgets/base",
          "model_name": "LayoutModel",
          "state": {
            "_view_name": "LayoutView",
            "grid_template_rows": null,
            "right": null,
            "justify_content": null,
            "_view_module": "@jupyter-widgets/base",
            "overflow": null,
            "_model_module_version": "1.2.0",
            "_view_count": null,
            "flex_flow": null,
            "width": null,
            "min_width": null,
            "border": null,
            "align_items": null,
            "bottom": null,
            "_model_module": "@jupyter-widgets/base",
            "top": null,
            "grid_column": null,
            "overflow_y": null,
            "overflow_x": null,
            "grid_auto_flow": null,
            "grid_area": null,
            "grid_template_columns": null,
            "flex": null,
            "_model_name": "LayoutModel",
            "justify_items": null,
            "grid_row": null,
            "max_height": null,
            "align_content": null,
            "visibility": null,
            "align_self": null,
            "height": null,
            "min_height": null,
            "padding": null,
            "grid_auto_rows": null,
            "grid_gap": null,
            "max_width": null,
            "order": null,
            "_view_module_version": "1.2.0",
            "grid_template_areas": null,
            "object_position": null,
            "object_fit": null,
            "grid_auto_columns": null,
            "margin": null,
            "display": null,
            "left": null
          }
        },
        "43bee12f94c24c6688f7833fd980c3f1": {
          "model_module": "@jupyter-widgets/controls",
          "model_name": "FloatProgressModel",
          "state": {
            "_view_name": "ProgressView",
            "style": "IPY_MODEL_bc0245539290407e964b444c16db0952",
            "_dom_classes": [],
            "description": "100%",
            "_model_name": "FloatProgressModel",
            "bar_style": "success",
            "max": 31,
            "_view_module": "@jupyter-widgets/controls",
            "_model_module_version": "1.5.0",
            "value": 31,
            "_view_count": null,
            "_view_module_version": "1.5.0",
            "orientation": "horizontal",
            "min": 0,
            "description_tooltip": null,
            "_model_module": "@jupyter-widgets/controls",
            "layout": "IPY_MODEL_bfaeb54609b844cba4a3363d9795877e"
          }
        },
        "3b8a8bff56f3461a9dbbcfd09198fa03": {
          "model_module": "@jupyter-widgets/controls",
          "model_name": "HTMLModel",
          "state": {
            "_view_name": "HTMLView",
            "style": "IPY_MODEL_3f2c01cd69bd49708b092acaa5d5b0c0",
            "_dom_classes": [],
            "description": "",
            "_model_name": "HTMLModel",
            "placeholder": "​",
            "_view_module": "@jupyter-widgets/controls",
            "_model_module_version": "1.5.0",
            "value": " 31/31 [09:46&lt;00:00, 18.92s/it]",
            "_view_count": null,
            "_view_module_version": "1.5.0",
            "description_tooltip": null,
            "_model_module": "@jupyter-widgets/controls",
            "layout": "IPY_MODEL_dc97a5d85ebb487cae16383407fd3c17"
          }
        },
        "bc0245539290407e964b444c16db0952": {
          "model_module": "@jupyter-widgets/controls",
          "model_name": "ProgressStyleModel",
          "state": {
            "_view_name": "StyleView",
            "_model_name": "ProgressStyleModel",
            "description_width": "initial",
            "_view_module": "@jupyter-widgets/base",
            "_model_module_version": "1.5.0",
            "_view_count": null,
            "_view_module_version": "1.2.0",
            "bar_color": null,
            "_model_module": "@jupyter-widgets/controls"
          }
        },
        "bfaeb54609b844cba4a3363d9795877e": {
          "model_module": "@jupyter-widgets/base",
          "model_name": "LayoutModel",
          "state": {
            "_view_name": "LayoutView",
            "grid_template_rows": null,
            "right": null,
            "justify_content": null,
            "_view_module": "@jupyter-widgets/base",
            "overflow": null,
            "_model_module_version": "1.2.0",
            "_view_count": null,
            "flex_flow": null,
            "width": null,
            "min_width": null,
            "border": null,
            "align_items": null,
            "bottom": null,
            "_model_module": "@jupyter-widgets/base",
            "top": null,
            "grid_column": null,
            "overflow_y": null,
            "overflow_x": null,
            "grid_auto_flow": null,
            "grid_area": null,
            "grid_template_columns": null,
            "flex": null,
            "_model_name": "LayoutModel",
            "justify_items": null,
            "grid_row": null,
            "max_height": null,
            "align_content": null,
            "visibility": null,
            "align_self": null,
            "height": null,
            "min_height": null,
            "padding": null,
            "grid_auto_rows": null,
            "grid_gap": null,
            "max_width": null,
            "order": null,
            "_view_module_version": "1.2.0",
            "grid_template_areas": null,
            "object_position": null,
            "object_fit": null,
            "grid_auto_columns": null,
            "margin": null,
            "display": null,
            "left": null
          }
        },
        "3f2c01cd69bd49708b092acaa5d5b0c0": {
          "model_module": "@jupyter-widgets/controls",
          "model_name": "DescriptionStyleModel",
          "state": {
            "_view_name": "StyleView",
            "_model_name": "DescriptionStyleModel",
            "description_width": "",
            "_view_module": "@jupyter-widgets/base",
            "_model_module_version": "1.5.0",
            "_view_count": null,
            "_view_module_version": "1.2.0",
            "_model_module": "@jupyter-widgets/controls"
          }
        },
        "dc97a5d85ebb487cae16383407fd3c17": {
          "model_module": "@jupyter-widgets/base",
          "model_name": "LayoutModel",
          "state": {
            "_view_name": "LayoutView",
            "grid_template_rows": null,
            "right": null,
            "justify_content": null,
            "_view_module": "@jupyter-widgets/base",
            "overflow": null,
            "_model_module_version": "1.2.0",
            "_view_count": null,
            "flex_flow": null,
            "width": null,
            "min_width": null,
            "border": null,
            "align_items": null,
            "bottom": null,
            "_model_module": "@jupyter-widgets/base",
            "top": null,
            "grid_column": null,
            "overflow_y": null,
            "overflow_x": null,
            "grid_auto_flow": null,
            "grid_area": null,
            "grid_template_columns": null,
            "flex": null,
            "_model_name": "LayoutModel",
            "justify_items": null,
            "grid_row": null,
            "max_height": null,
            "align_content": null,
            "visibility": null,
            "align_self": null,
            "height": null,
            "min_height": null,
            "padding": null,
            "grid_auto_rows": null,
            "grid_gap": null,
            "max_width": null,
            "order": null,
            "_view_module_version": "1.2.0",
            "grid_template_areas": null,
            "object_position": null,
            "object_fit": null,
            "grid_auto_columns": null,
            "margin": null,
            "display": null,
            "left": null
          }
        },
        "cbd3a917fc034b9bbdb86bd41d8a8c95": {
          "model_module": "@jupyter-widgets/controls",
          "model_name": "HBoxModel",
          "state": {
            "_view_name": "HBoxView",
            "_dom_classes": [],
            "_model_name": "HBoxModel",
            "_view_module": "@jupyter-widgets/controls",
            "_model_module_version": "1.5.0",
            "_view_count": null,
            "_view_module_version": "1.5.0",
            "box_style": "",
            "layout": "IPY_MODEL_661b754abc8a4ace857ebd5c49e00a73",
            "_model_module": "@jupyter-widgets/controls",
            "children": [
              "IPY_MODEL_8e6aa48a19f949539d931a5f1bf25b3f",
              "IPY_MODEL_16c754a407134e3b9ace1d90f7e5e63c"
            ]
          }
        },
        "661b754abc8a4ace857ebd5c49e00a73": {
          "model_module": "@jupyter-widgets/base",
          "model_name": "LayoutModel",
          "state": {
            "_view_name": "LayoutView",
            "grid_template_rows": null,
            "right": null,
            "justify_content": null,
            "_view_module": "@jupyter-widgets/base",
            "overflow": null,
            "_model_module_version": "1.2.0",
            "_view_count": null,
            "flex_flow": null,
            "width": null,
            "min_width": null,
            "border": null,
            "align_items": null,
            "bottom": null,
            "_model_module": "@jupyter-widgets/base",
            "top": null,
            "grid_column": null,
            "overflow_y": null,
            "overflow_x": null,
            "grid_auto_flow": null,
            "grid_area": null,
            "grid_template_columns": null,
            "flex": null,
            "_model_name": "LayoutModel",
            "justify_items": null,
            "grid_row": null,
            "max_height": null,
            "align_content": null,
            "visibility": null,
            "align_self": null,
            "height": null,
            "min_height": null,
            "padding": null,
            "grid_auto_rows": null,
            "grid_gap": null,
            "max_width": null,
            "order": null,
            "_view_module_version": "1.2.0",
            "grid_template_areas": null,
            "object_position": null,
            "object_fit": null,
            "grid_auto_columns": null,
            "margin": null,
            "display": null,
            "left": null
          }
        },
        "8e6aa48a19f949539d931a5f1bf25b3f": {
          "model_module": "@jupyter-widgets/controls",
          "model_name": "FloatProgressModel",
          "state": {
            "_view_name": "ProgressView",
            "style": "IPY_MODEL_af01dbfc86b54e12b0fad35d2c5db27c",
            "_dom_classes": [],
            "description": "100%",
            "_model_name": "FloatProgressModel",
            "bar_style": "success",
            "max": 27,
            "_view_module": "@jupyter-widgets/controls",
            "_model_module_version": "1.5.0",
            "value": 27,
            "_view_count": null,
            "_view_module_version": "1.5.0",
            "orientation": "horizontal",
            "min": 0,
            "description_tooltip": null,
            "_model_module": "@jupyter-widgets/controls",
            "layout": "IPY_MODEL_f878cac1c7ff4052836c1b7e4d3903c3"
          }
        },
        "16c754a407134e3b9ace1d90f7e5e63c": {
          "model_module": "@jupyter-widgets/controls",
          "model_name": "HTMLModel",
          "state": {
            "_view_name": "HTMLView",
            "style": "IPY_MODEL_1323c0876ec54d409cd3389e591f2efb",
            "_dom_classes": [],
            "description": "",
            "_model_name": "HTMLModel",
            "placeholder": "​",
            "_view_module": "@jupyter-widgets/controls",
            "_model_module_version": "1.5.0",
            "value": " 27/27 [04:48&lt;00:00, 10.68s/it]",
            "_view_count": null,
            "_view_module_version": "1.5.0",
            "description_tooltip": null,
            "_model_module": "@jupyter-widgets/controls",
            "layout": "IPY_MODEL_c5f0fc7aab2a42ba9b9ed352da75f427"
          }
        },
        "af01dbfc86b54e12b0fad35d2c5db27c": {
          "model_module": "@jupyter-widgets/controls",
          "model_name": "ProgressStyleModel",
          "state": {
            "_view_name": "StyleView",
            "_model_name": "ProgressStyleModel",
            "description_width": "initial",
            "_view_module": "@jupyter-widgets/base",
            "_model_module_version": "1.5.0",
            "_view_count": null,
            "_view_module_version": "1.2.0",
            "bar_color": null,
            "_model_module": "@jupyter-widgets/controls"
          }
        },
        "f878cac1c7ff4052836c1b7e4d3903c3": {
          "model_module": "@jupyter-widgets/base",
          "model_name": "LayoutModel",
          "state": {
            "_view_name": "LayoutView",
            "grid_template_rows": null,
            "right": null,
            "justify_content": null,
            "_view_module": "@jupyter-widgets/base",
            "overflow": null,
            "_model_module_version": "1.2.0",
            "_view_count": null,
            "flex_flow": null,
            "width": null,
            "min_width": null,
            "border": null,
            "align_items": null,
            "bottom": null,
            "_model_module": "@jupyter-widgets/base",
            "top": null,
            "grid_column": null,
            "overflow_y": null,
            "overflow_x": null,
            "grid_auto_flow": null,
            "grid_area": null,
            "grid_template_columns": null,
            "flex": null,
            "_model_name": "LayoutModel",
            "justify_items": null,
            "grid_row": null,
            "max_height": null,
            "align_content": null,
            "visibility": null,
            "align_self": null,
            "height": null,
            "min_height": null,
            "padding": null,
            "grid_auto_rows": null,
            "grid_gap": null,
            "max_width": null,
            "order": null,
            "_view_module_version": "1.2.0",
            "grid_template_areas": null,
            "object_position": null,
            "object_fit": null,
            "grid_auto_columns": null,
            "margin": null,
            "display": null,
            "left": null
          }
        },
        "1323c0876ec54d409cd3389e591f2efb": {
          "model_module": "@jupyter-widgets/controls",
          "model_name": "DescriptionStyleModel",
          "state": {
            "_view_name": "StyleView",
            "_model_name": "DescriptionStyleModel",
            "description_width": "",
            "_view_module": "@jupyter-widgets/base",
            "_model_module_version": "1.5.0",
            "_view_count": null,
            "_view_module_version": "1.2.0",
            "_model_module": "@jupyter-widgets/controls"
          }
        },
        "c5f0fc7aab2a42ba9b9ed352da75f427": {
          "model_module": "@jupyter-widgets/base",
          "model_name": "LayoutModel",
          "state": {
            "_view_name": "LayoutView",
            "grid_template_rows": null,
            "right": null,
            "justify_content": null,
            "_view_module": "@jupyter-widgets/base",
            "overflow": null,
            "_model_module_version": "1.2.0",
            "_view_count": null,
            "flex_flow": null,
            "width": null,
            "min_width": null,
            "border": null,
            "align_items": null,
            "bottom": null,
            "_model_module": "@jupyter-widgets/base",
            "top": null,
            "grid_column": null,
            "overflow_y": null,
            "overflow_x": null,
            "grid_auto_flow": null,
            "grid_area": null,
            "grid_template_columns": null,
            "flex": null,
            "_model_name": "LayoutModel",
            "justify_items": null,
            "grid_row": null,
            "max_height": null,
            "align_content": null,
            "visibility": null,
            "align_self": null,
            "height": null,
            "min_height": null,
            "padding": null,
            "grid_auto_rows": null,
            "grid_gap": null,
            "max_width": null,
            "order": null,
            "_view_module_version": "1.2.0",
            "grid_template_areas": null,
            "object_position": null,
            "object_fit": null,
            "grid_auto_columns": null,
            "margin": null,
            "display": null,
            "left": null
          }
        },
        "1f804f570e9145a79ae414bfe978f084": {
          "model_module": "@jupyter-widgets/controls",
          "model_name": "HBoxModel",
          "state": {
            "_view_name": "HBoxView",
            "_dom_classes": [],
            "_model_name": "HBoxModel",
            "_view_module": "@jupyter-widgets/controls",
            "_model_module_version": "1.5.0",
            "_view_count": null,
            "_view_module_version": "1.5.0",
            "box_style": "",
            "layout": "IPY_MODEL_865135bdb8394f12a4dfa23abe55eb66",
            "_model_module": "@jupyter-widgets/controls",
            "children": [
              "IPY_MODEL_efefd8a3b8eb42b8beb3f1c8278e6cf8",
              "IPY_MODEL_4c8d80a3fb7e4a588701bd317d5b4e19"
            ]
          }
        },
        "865135bdb8394f12a4dfa23abe55eb66": {
          "model_module": "@jupyter-widgets/base",
          "model_name": "LayoutModel",
          "state": {
            "_view_name": "LayoutView",
            "grid_template_rows": null,
            "right": null,
            "justify_content": null,
            "_view_module": "@jupyter-widgets/base",
            "overflow": null,
            "_model_module_version": "1.2.0",
            "_view_count": null,
            "flex_flow": null,
            "width": null,
            "min_width": null,
            "border": null,
            "align_items": null,
            "bottom": null,
            "_model_module": "@jupyter-widgets/base",
            "top": null,
            "grid_column": null,
            "overflow_y": null,
            "overflow_x": null,
            "grid_auto_flow": null,
            "grid_area": null,
            "grid_template_columns": null,
            "flex": null,
            "_model_name": "LayoutModel",
            "justify_items": null,
            "grid_row": null,
            "max_height": null,
            "align_content": null,
            "visibility": null,
            "align_self": null,
            "height": null,
            "min_height": null,
            "padding": null,
            "grid_auto_rows": null,
            "grid_gap": null,
            "max_width": null,
            "order": null,
            "_view_module_version": "1.2.0",
            "grid_template_areas": null,
            "object_position": null,
            "object_fit": null,
            "grid_auto_columns": null,
            "margin": null,
            "display": null,
            "left": null
          }
        },
        "efefd8a3b8eb42b8beb3f1c8278e6cf8": {
          "model_module": "@jupyter-widgets/controls",
          "model_name": "FloatProgressModel",
          "state": {
            "_view_name": "ProgressView",
            "style": "IPY_MODEL_7e84ce11bd9e41ffa79a6f884bfbd696",
            "_dom_classes": [],
            "description": "  0%",
            "_model_name": "FloatProgressModel",
            "bar_style": "danger",
            "max": 624,
            "_view_module": "@jupyter-widgets/controls",
            "_model_module_version": "1.5.0",
            "value": 2,
            "_view_count": null,
            "_view_module_version": "1.5.0",
            "orientation": "horizontal",
            "min": 0,
            "description_tooltip": null,
            "_model_module": "@jupyter-widgets/controls",
            "layout": "IPY_MODEL_5d1559817abd497caa8ee9ea55a08839"
          }
        },
        "4c8d80a3fb7e4a588701bd317d5b4e19": {
          "model_module": "@jupyter-widgets/controls",
          "model_name": "HTMLModel",
          "state": {
            "_view_name": "HTMLView",
            "style": "IPY_MODEL_efca754283c646aa97f9a8351455fbc2",
            "_dom_classes": [],
            "description": "",
            "_model_name": "HTMLModel",
            "placeholder": "​",
            "_view_module": "@jupyter-widgets/controls",
            "_model_module_version": "1.5.0",
            "value": " 2/624 [00:28&lt;1:39:45,  9.62s/it]",
            "_view_count": null,
            "_view_module_version": "1.5.0",
            "description_tooltip": null,
            "_model_module": "@jupyter-widgets/controls",
            "layout": "IPY_MODEL_920d58e1baef4ba2843cb5eb33c9e41c"
          }
        },
        "7e84ce11bd9e41ffa79a6f884bfbd696": {
          "model_module": "@jupyter-widgets/controls",
          "model_name": "ProgressStyleModel",
          "state": {
            "_view_name": "StyleView",
            "_model_name": "ProgressStyleModel",
            "description_width": "initial",
            "_view_module": "@jupyter-widgets/base",
            "_model_module_version": "1.5.0",
            "_view_count": null,
            "_view_module_version": "1.2.0",
            "bar_color": null,
            "_model_module": "@jupyter-widgets/controls"
          }
        },
        "5d1559817abd497caa8ee9ea55a08839": {
          "model_module": "@jupyter-widgets/base",
          "model_name": "LayoutModel",
          "state": {
            "_view_name": "LayoutView",
            "grid_template_rows": null,
            "right": null,
            "justify_content": null,
            "_view_module": "@jupyter-widgets/base",
            "overflow": null,
            "_model_module_version": "1.2.0",
            "_view_count": null,
            "flex_flow": null,
            "width": null,
            "min_width": null,
            "border": null,
            "align_items": null,
            "bottom": null,
            "_model_module": "@jupyter-widgets/base",
            "top": null,
            "grid_column": null,
            "overflow_y": null,
            "overflow_x": null,
            "grid_auto_flow": null,
            "grid_area": null,
            "grid_template_columns": null,
            "flex": null,
            "_model_name": "LayoutModel",
            "justify_items": null,
            "grid_row": null,
            "max_height": null,
            "align_content": null,
            "visibility": null,
            "align_self": null,
            "height": null,
            "min_height": null,
            "padding": null,
            "grid_auto_rows": null,
            "grid_gap": null,
            "max_width": null,
            "order": null,
            "_view_module_version": "1.2.0",
            "grid_template_areas": null,
            "object_position": null,
            "object_fit": null,
            "grid_auto_columns": null,
            "margin": null,
            "display": null,
            "left": null
          }
        },
        "efca754283c646aa97f9a8351455fbc2": {
          "model_module": "@jupyter-widgets/controls",
          "model_name": "DescriptionStyleModel",
          "state": {
            "_view_name": "StyleView",
            "_model_name": "DescriptionStyleModel",
            "description_width": "",
            "_view_module": "@jupyter-widgets/base",
            "_model_module_version": "1.5.0",
            "_view_count": null,
            "_view_module_version": "1.2.0",
            "_model_module": "@jupyter-widgets/controls"
          }
        },
        "920d58e1baef4ba2843cb5eb33c9e41c": {
          "model_module": "@jupyter-widgets/base",
          "model_name": "LayoutModel",
          "state": {
            "_view_name": "LayoutView",
            "grid_template_rows": null,
            "right": null,
            "justify_content": null,
            "_view_module": "@jupyter-widgets/base",
            "overflow": null,
            "_model_module_version": "1.2.0",
            "_view_count": null,
            "flex_flow": null,
            "width": null,
            "min_width": null,
            "border": null,
            "align_items": null,
            "bottom": null,
            "_model_module": "@jupyter-widgets/base",
            "top": null,
            "grid_column": null,
            "overflow_y": null,
            "overflow_x": null,
            "grid_auto_flow": null,
            "grid_area": null,
            "grid_template_columns": null,
            "flex": null,
            "_model_name": "LayoutModel",
            "justify_items": null,
            "grid_row": null,
            "max_height": null,
            "align_content": null,
            "visibility": null,
            "align_self": null,
            "height": null,
            "min_height": null,
            "padding": null,
            "grid_auto_rows": null,
            "grid_gap": null,
            "max_width": null,
            "order": null,
            "_view_module_version": "1.2.0",
            "grid_template_areas": null,
            "object_position": null,
            "object_fit": null,
            "grid_auto_columns": null,
            "margin": null,
            "display": null,
            "left": null
          }
        },
        "e5551f6fdbcb4b15b31d280cc3ee153d": {
          "model_module": "@jupyter-widgets/controls",
          "model_name": "HBoxModel",
          "state": {
            "_view_name": "HBoxView",
            "_dom_classes": [],
            "_model_name": "HBoxModel",
            "_view_module": "@jupyter-widgets/controls",
            "_model_module_version": "1.5.0",
            "_view_count": null,
            "_view_module_version": "1.5.0",
            "box_style": "",
            "layout": "IPY_MODEL_59ded57456e546b3a9e1eb426ddc6e5d",
            "_model_module": "@jupyter-widgets/controls",
            "children": [
              "IPY_MODEL_4e2fcb0625bc49b08bfa105e61d9fd80",
              "IPY_MODEL_c1f713e226c24567a3ff762912641414"
            ]
          }
        },
        "59ded57456e546b3a9e1eb426ddc6e5d": {
          "model_module": "@jupyter-widgets/base",
          "model_name": "LayoutModel",
          "state": {
            "_view_name": "LayoutView",
            "grid_template_rows": null,
            "right": null,
            "justify_content": null,
            "_view_module": "@jupyter-widgets/base",
            "overflow": null,
            "_model_module_version": "1.2.0",
            "_view_count": null,
            "flex_flow": null,
            "width": null,
            "min_width": null,
            "border": null,
            "align_items": null,
            "bottom": null,
            "_model_module": "@jupyter-widgets/base",
            "top": null,
            "grid_column": null,
            "overflow_y": null,
            "overflow_x": null,
            "grid_auto_flow": null,
            "grid_area": null,
            "grid_template_columns": null,
            "flex": null,
            "_model_name": "LayoutModel",
            "justify_items": null,
            "grid_row": null,
            "max_height": null,
            "align_content": null,
            "visibility": null,
            "align_self": null,
            "height": null,
            "min_height": null,
            "padding": null,
            "grid_auto_rows": null,
            "grid_gap": null,
            "max_width": null,
            "order": null,
            "_view_module_version": "1.2.0",
            "grid_template_areas": null,
            "object_position": null,
            "object_fit": null,
            "grid_auto_columns": null,
            "margin": null,
            "display": null,
            "left": null
          }
        },
        "4e2fcb0625bc49b08bfa105e61d9fd80": {
          "model_module": "@jupyter-widgets/controls",
          "model_name": "FloatProgressModel",
          "state": {
            "_view_name": "ProgressView",
            "style": "IPY_MODEL_677a49da3b6d4593ac5a783d63cc169b",
            "_dom_classes": [],
            "description": "100%",
            "_model_name": "FloatProgressModel",
            "bar_style": "success",
            "max": 624,
            "_view_module": "@jupyter-widgets/controls",
            "_model_module_version": "1.5.0",
            "value": 624,
            "_view_count": null,
            "_view_module_version": "1.5.0",
            "orientation": "horizontal",
            "min": 0,
            "description_tooltip": null,
            "_model_module": "@jupyter-widgets/controls",
            "layout": "IPY_MODEL_85022de23ec04d0f80867261aa1b90fb"
          }
        },
        "c1f713e226c24567a3ff762912641414": {
          "model_module": "@jupyter-widgets/controls",
          "model_name": "HTMLModel",
          "state": {
            "_view_name": "HTMLView",
            "style": "IPY_MODEL_33914d789642406f9afe0d2eb40c759b",
            "_dom_classes": [],
            "description": "",
            "_model_name": "HTMLModel",
            "placeholder": "​",
            "_view_module": "@jupyter-widgets/controls",
            "_model_module_version": "1.5.0",
            "value": " 624/624 [1:40:15&lt;00:00,  9.64s/it]",
            "_view_count": null,
            "_view_module_version": "1.5.0",
            "description_tooltip": null,
            "_model_module": "@jupyter-widgets/controls",
            "layout": "IPY_MODEL_b93dc32edd4b435fba0bed5b0e03d694"
          }
        },
        "677a49da3b6d4593ac5a783d63cc169b": {
          "model_module": "@jupyter-widgets/controls",
          "model_name": "ProgressStyleModel",
          "state": {
            "_view_name": "StyleView",
            "_model_name": "ProgressStyleModel",
            "description_width": "initial",
            "_view_module": "@jupyter-widgets/base",
            "_model_module_version": "1.5.0",
            "_view_count": null,
            "_view_module_version": "1.2.0",
            "bar_color": null,
            "_model_module": "@jupyter-widgets/controls"
          }
        },
        "85022de23ec04d0f80867261aa1b90fb": {
          "model_module": "@jupyter-widgets/base",
          "model_name": "LayoutModel",
          "state": {
            "_view_name": "LayoutView",
            "grid_template_rows": null,
            "right": null,
            "justify_content": null,
            "_view_module": "@jupyter-widgets/base",
            "overflow": null,
            "_model_module_version": "1.2.0",
            "_view_count": null,
            "flex_flow": null,
            "width": null,
            "min_width": null,
            "border": null,
            "align_items": null,
            "bottom": null,
            "_model_module": "@jupyter-widgets/base",
            "top": null,
            "grid_column": null,
            "overflow_y": null,
            "overflow_x": null,
            "grid_auto_flow": null,
            "grid_area": null,
            "grid_template_columns": null,
            "flex": null,
            "_model_name": "LayoutModel",
            "justify_items": null,
            "grid_row": null,
            "max_height": null,
            "align_content": null,
            "visibility": null,
            "align_self": null,
            "height": null,
            "min_height": null,
            "padding": null,
            "grid_auto_rows": null,
            "grid_gap": null,
            "max_width": null,
            "order": null,
            "_view_module_version": "1.2.0",
            "grid_template_areas": null,
            "object_position": null,
            "object_fit": null,
            "grid_auto_columns": null,
            "margin": null,
            "display": null,
            "left": null
          }
        },
        "33914d789642406f9afe0d2eb40c759b": {
          "model_module": "@jupyter-widgets/controls",
          "model_name": "DescriptionStyleModel",
          "state": {
            "_view_name": "StyleView",
            "_model_name": "DescriptionStyleModel",
            "description_width": "",
            "_view_module": "@jupyter-widgets/base",
            "_model_module_version": "1.5.0",
            "_view_count": null,
            "_view_module_version": "1.2.0",
            "_model_module": "@jupyter-widgets/controls"
          }
        },
        "b93dc32edd4b435fba0bed5b0e03d694": {
          "model_module": "@jupyter-widgets/base",
          "model_name": "LayoutModel",
          "state": {
            "_view_name": "LayoutView",
            "grid_template_rows": null,
            "right": null,
            "justify_content": null,
            "_view_module": "@jupyter-widgets/base",
            "overflow": null,
            "_model_module_version": "1.2.0",
            "_view_count": null,
            "flex_flow": null,
            "width": null,
            "min_width": null,
            "border": null,
            "align_items": null,
            "bottom": null,
            "_model_module": "@jupyter-widgets/base",
            "top": null,
            "grid_column": null,
            "overflow_y": null,
            "overflow_x": null,
            "grid_auto_flow": null,
            "grid_area": null,
            "grid_template_columns": null,
            "flex": null,
            "_model_name": "LayoutModel",
            "justify_items": null,
            "grid_row": null,
            "max_height": null,
            "align_content": null,
            "visibility": null,
            "align_self": null,
            "height": null,
            "min_height": null,
            "padding": null,
            "grid_auto_rows": null,
            "grid_gap": null,
            "max_width": null,
            "order": null,
            "_view_module_version": "1.2.0",
            "grid_template_areas": null,
            "object_position": null,
            "object_fit": null,
            "grid_auto_columns": null,
            "margin": null,
            "display": null,
            "left": null
          }
        }
      }
    }
  },
  "cells": [
    {
      "cell_type": "code",
      "metadata": {
        "colab": {
          "base_uri": "https://localhost:8080/"
        },
        "id": "6vh68kEjIi9z",
        "outputId": "3d75a1fd-5517-4def-a2e9-1a2649b4aaa1"
      },
      "source": [
        "from google.colab import drive\r\n",
        "drive.mount('/content/drive')"
      ],
      "execution_count": null,
      "outputs": [
        {
          "output_type": "stream",
          "text": [
            "Drive already mounted at /content/drive; to attempt to forcibly remount, call drive.mount(\"/content/drive\", force_remount=True).\n"
          ],
          "name": "stdout"
        }
      ]
    },
    {
      "cell_type": "code",
      "metadata": {
        "colab": {
          "base_uri": "https://localhost:8080/"
        },
        "id": "9tZ5BK3nIsjk",
        "outputId": "34037fd5-967e-4743-e111-ff5e9d3b64b7"
      },
      "source": [
        "cd /content/drive/MyDrive/Applied \\AI \\course \\Assignments/Case \\Study \\2"
      ],
      "execution_count": null,
      "outputs": [
        {
          "output_type": "stream",
          "text": [
            "/content/drive/MyDrive/Applied AI course Assignments/Case Study 2\n"
          ],
          "name": "stdout"
        }
      ]
    },
    {
      "cell_type": "code",
      "metadata": {
        "id": "pfKe80WdIt8E"
      },
      "source": [
        "import numpy as np\r\n",
        "import pandas as pd\r\n",
        "import matplotlib.pyplot as plt\r\n",
        "import sklearn\r\n",
        "import cv2\r\n",
        "from skimage import io\r\n",
        "from skimage import transform\r\n",
        "from skimage import color\r\n",
        "import pickle\r\n",
        "\r\n",
        "import pickle\r\n",
        "from tqdm.notebook import tqdm\r\n",
        "\r\n",
        "from sklearn.metrics import mean_squared_error\r\n",
        "\r\n",
        "import tensorflow as tf"
      ],
      "execution_count": null,
      "outputs": []
    },
    {
      "cell_type": "markdown",
      "metadata": {
        "id": "k4jXhtuxI8SR"
      },
      "source": [
        "## load the images and counts from folders"
      ]
    },
    {
      "cell_type": "code",
      "metadata": {
        "id": "car5EHYbI3fN"
      },
      "source": [
        "# Load the images and counts\r\n",
        "with open('Images.pkl', 'rb') as f:\r\n",
        "  images = pickle.load(f)\r\n",
        "\r\n",
        "with open('Counts.pkl', 'rb') as f:\r\n",
        "  counts = pickle.load(f)\r\n"
      ],
      "execution_count": null,
      "outputs": []
    },
    {
      "cell_type": "code",
      "metadata": {
        "colab": {
          "base_uri": "https://localhost:8080/"
        },
        "id": "rhjlhXc7I7cI",
        "outputId": "7a238273-8c00-48f0-a70c-fc67e3817bae"
      },
      "source": [
        "A1_image_paths, A1_counts = [],[]\r\n",
        "A2_image_paths, A2_counts = [],[]\r\n",
        "A3_image_paths, A3_counts = [],[]\r\n",
        "A4_image_paths, A4_counts = [],[]\r\n",
        "\r\n",
        "for image, count in zip(images, counts):\r\n",
        "    folder = image.split(\"/\")[1]\r\n",
        "\r\n",
        "    if folder == 'A1':\r\n",
        "        A1_image_paths.append(image)\r\n",
        "        A1_counts.append(count)\r\n",
        "    elif folder == 'A2':\r\n",
        "        A2_image_paths.append(image)\r\n",
        "        A2_counts.append(count)\r\n",
        "    elif folder == 'A3':\r\n",
        "        A3_image_paths.append(image)\r\n",
        "        A3_counts.append(count)\r\n",
        "    else:\r\n",
        "        A4_image_paths.append(image)\r\n",
        "        A4_counts.append(count)\r\n",
        "\r\n",
        "print(\"Data points in folder A1:\", len(A1_image_paths))\r\n",
        "print(\"Data points in folder A2:\", len(A2_image_paths))\r\n",
        "print(\"Data points in folder A3:\", len(A3_image_paths))\r\n",
        "print(\"Data points in folder A4:\", len(A4_image_paths))"
      ],
      "execution_count": null,
      "outputs": [
        {
          "output_type": "stream",
          "text": [
            "Data points in folder A1: 128\n",
            "Data points in folder A2: 31\n",
            "Data points in folder A3: 27\n",
            "Data points in folder A4: 624\n"
          ],
          "name": "stdout"
        }
      ]
    },
    {
      "cell_type": "markdown",
      "metadata": {
        "id": "d1YOS2tQJL1g"
      },
      "source": [
        "## Helper functions"
      ]
    },
    {
      "cell_type": "code",
      "metadata": {
        "id": "ERWy8lz-JLq1"
      },
      "source": [
        "def get_images(image_path, size = [256, 256]):\r\n",
        "    # Read the image path\r\n",
        "    image = tf.io.decode_png(tf.io.read_file(image_path), channels = 3)\r\n",
        "    image = tf.image.convert_image_dtype(image, tf.float64)\r\n",
        "    # Resizing\r\n",
        "    #image = tf.image.resize(image, [448, 448])  # Based on the values from the paper\r\n",
        "    image = tf.image.resize(image, size)\r\n",
        "    return image\r\n",
        "\r\n",
        "def get_MSE(counts, predictions):\r\n",
        "    return mean_squared_error(counts, predictions)\r\n",
        "\r\n",
        "def get_avg_MSE(mse_A1, mse_A2, mse_A3, mse_A4):\r\n",
        "    return (mse_A1 + mse_A2 + mse_A3 + mse_A4) / 4 "
      ],
      "execution_count": null,
      "outputs": []
    },
    {
      "cell_type": "markdown",
      "metadata": {
        "id": "5f8Eot9xJDxX"
      },
      "source": [
        "## Prepare the data for the models"
      ]
    },
    {
      "cell_type": "code",
      "metadata": {
        "id": "WpaqB6Z-I-y_"
      },
      "source": [
        "A1_images = np.zeros(shape=(128, 256, 256, 3))\r\n",
        "for i, (image, count) in enumerate(zip(A1_image_paths, A1_counts)):\r\n",
        "     image = get_images(image, size = [256,256])\r\n",
        "     A1_images[i] = image\r\n",
        "A1_counts = np.array(A1_counts)\r\n",
        "\r\n",
        "A2_images = np.zeros(shape=(31, 256, 256, 3))\r\n",
        "for i, (image, count) in enumerate(zip(A2_image_paths, A2_counts)):\r\n",
        "     image = get_images(image, size = [256,256])\r\n",
        "     A2_images[i] = image\r\n",
        "A2_counts = np.array(A2_counts)    \r\n",
        "\r\n",
        "A3_images = np.zeros(shape=(27, 256, 256, 3))\r\n",
        "for i, (image, count) in enumerate(zip(A3_image_paths, A3_counts)):\r\n",
        "     image = get_images(image, size = [256,256])\r\n",
        "     A3_images[i] = image\r\n",
        "A3_counts = np.array(A3_counts)\r\n",
        "\r\n",
        "A4_images = np.zeros(shape=(624, 256, 256, 3))\r\n",
        "for i, (image, count) in enumerate(zip(A4_image_paths, A4_counts)):\r\n",
        "     image = get_images(image, size = [256,256])\r\n",
        "     A4_images[i] = image\r\n",
        "A4_counts = np.array(A4_counts)"
      ],
      "execution_count": null,
      "outputs": []
    },
    {
      "cell_type": "markdown",
      "metadata": {
        "id": "dO3Pu0FCJ6W_"
      },
      "source": [
        "## Unquantized model results:"
      ]
    },
    {
      "cell_type": "code",
      "metadata": {
        "id": "YReTiZnzJHzB",
        "colab": {
          "base_uri": "https://localhost:8080/"
        },
        "outputId": "8e176f00-6872-4992-e601-025abb150b78"
      },
      "source": [
        "# Load the model\r\n",
        "model_path = \"Transfer_learning_models/DenseNet121/\"\r\n",
        "model = tf.keras.models.load_model(model_path)\r\n",
        "\r\n",
        "A1_preds = model.predict(A1_images)\r\n",
        "A1_preds = A1_preds.reshape(A1_preds.shape[0])\r\n",
        "A2_preds = model.predict(A2_images)\r\n",
        "A2_preds = A2_preds.reshape(A2_preds.shape[0])\r\n",
        "A3_preds = model.predict(A3_images)\r\n",
        "A3_preds = A3_preds.reshape(A3_preds.shape[0])\r\n",
        "A4_preds = model.predict(A4_images)\r\n",
        "A4_preds = A4_preds.reshape(A4_preds.shape[0])\r\n",
        "\r\n",
        "for i in range(len(A1_preds)):\r\n",
        "    A1_preds[i] = round(A1_preds[i])\r\n",
        "A1_preds = A1_preds.astype('int32')\r\n",
        "\r\n",
        "for i in range(len(A2_preds)):\r\n",
        "    A2_preds[i] = round(A2_preds[i])\r\n",
        "A2_preds = A2_preds.astype('int32')\r\n",
        "\r\n",
        "for i in range(len(A3_preds)):\r\n",
        "    A3_preds[i] = round(A3_preds[i])\r\n",
        "A3_preds = A3_preds.astype('int32')\r\n",
        "\r\n",
        "for i in range(len(A4_preds)):\r\n",
        "    A4_preds[i] = round(A4_preds[i])\r\n",
        "A4_preds = A4_preds.astype('int32')\r\n",
        "\r\n",
        "\r\n",
        "mse_1 = get_MSE(A1_preds, A1_counts)\r\n",
        "\r\n",
        "mse_2 = get_MSE(A2_preds, A2_counts)\r\n",
        "\r\n",
        "mse_3 = get_MSE(A3_preds, A3_counts)\r\n",
        "\r\n",
        "mse_4 = get_MSE(A4_preds, A4_counts)\r\n",
        "\r\n",
        "avg_MSE = get_avg_MSE(mse_1, mse_2, mse_3, mse_4)\r\n",
        "\r\n",
        "print(\"MSE for A1: \", mse_1)\r\n",
        "print(\"MSE for A2: \", mse_2)\r\n",
        "print(\"MSE for A3: \", mse_3)\r\n",
        "print(\"MSE for A4: \", mse_4)\r\n",
        "print(\"Average MSE: \", avg_MSE)"
      ],
      "execution_count": null,
      "outputs": [
        {
          "output_type": "stream",
          "text": [
            "MSE for A1:  0.7734375\n",
            "MSE for A2:  2.870967741935484\n",
            "MSE for A3:  2.0\n",
            "MSE for A4:  1.2307692307692308\n",
            "Average MSE:  1.7187936181761787\n"
          ],
          "name": "stdout"
        }
      ]
    },
    {
      "cell_type": "markdown",
      "metadata": {
        "id": "bh5fnYqHKFDc"
      },
      "source": [
        "## Quantized model results:"
      ]
    },
    {
      "cell_type": "code",
      "metadata": {
        "id": "KsRRctAVKFDd",
        "colab": {
          "base_uri": "https://localhost:8080/",
          "height": 529,
          "referenced_widgets": [
            "231a5162a0ef4fc1af2fb29915fd0558",
            "b178dd226bd44da1933a6a103f7e3e93",
            "baf78db68ae44116b2f9d4f05d15354a",
            "0ebaa0deca3e41e9ad93702c679f8c5f",
            "932b4ff862bb414ca7c7fd214ea0d2e7",
            "59732f3d9e2a444081c1145a571ec52d",
            "164ec95eded54ba6a06f8ef8b5a2402c",
            "9d53c7e0eb194e1e94f1d5b84140006a",
            "9b7237ee6cb446fe8429d7545d5b3392",
            "5fdcf03c69f34450b19ed9911ee6e27e",
            "43bee12f94c24c6688f7833fd980c3f1",
            "3b8a8bff56f3461a9dbbcfd09198fa03",
            "bc0245539290407e964b444c16db0952",
            "bfaeb54609b844cba4a3363d9795877e",
            "3f2c01cd69bd49708b092acaa5d5b0c0",
            "dc97a5d85ebb487cae16383407fd3c17",
            "cbd3a917fc034b9bbdb86bd41d8a8c95",
            "661b754abc8a4ace857ebd5c49e00a73",
            "8e6aa48a19f949539d931a5f1bf25b3f",
            "16c754a407134e3b9ace1d90f7e5e63c",
            "af01dbfc86b54e12b0fad35d2c5db27c",
            "f878cac1c7ff4052836c1b7e4d3903c3",
            "1323c0876ec54d409cd3389e591f2efb",
            "c5f0fc7aab2a42ba9b9ed352da75f427",
            "1f804f570e9145a79ae414bfe978f084",
            "865135bdb8394f12a4dfa23abe55eb66",
            "efefd8a3b8eb42b8beb3f1c8278e6cf8",
            "4c8d80a3fb7e4a588701bd317d5b4e19",
            "7e84ce11bd9e41ffa79a6f884bfbd696",
            "5d1559817abd497caa8ee9ea55a08839",
            "efca754283c646aa97f9a8351455fbc2",
            "920d58e1baef4ba2843cb5eb33c9e41c"
          ]
        },
        "outputId": "a987569a-f8f4-457a-a2b0-a5e4ab323a42"
      },
      "source": [
        "# Load the model\r\n",
        "model_path = \"Tflite_models/optimized_densenet_model.tflite\"\r\n",
        "interpreter_quant = tf.lite.Interpreter(model_path=model_path)\r\n",
        "interpreter_quant.allocate_tensors()\r\n",
        "input_index = interpreter_quant.get_input_details()[0][\"index\"]\r\n",
        "output_index = interpreter_quant.get_output_details()[0][\"index\"]\r\n",
        "\r\n",
        "A1_preds = []\r\n",
        "for image in tqdm(A1_images):\r\n",
        "    image = image.reshape(1, 256, 256, 3)\r\n",
        "    interpreter_quant.set_tensor(input_index, np.array(image, dtype=np.float32))\r\n",
        "    interpreter_quant.invoke()\r\n",
        "    prediction = interpreter_quant.get_tensor(output_index)[0][0]\r\n",
        "    A1_preds.append(round(prediction))\r\n",
        "\r\n",
        "A2_preds = []\r\n",
        "for image in tqdm(A2_images):\r\n",
        "    image = image.reshape(1, 256, 256, 3)\r\n",
        "    interpreter_quant.set_tensor(input_index, np.array(image, dtype=np.float32))\r\n",
        "    interpreter_quant.invoke()\r\n",
        "    prediction = interpreter_quant.get_tensor(output_index)[0][0]\r\n",
        "    A2_preds.append(round(prediction))\r\n",
        "\r\n",
        "A3_preds = []\r\n",
        "for image in tqdm(A3_images):\r\n",
        "    image = image.reshape(1, 256, 256, 3)\r\n",
        "    interpreter_quant.set_tensor(input_index, np.array(image, dtype=np.float32))\r\n",
        "    interpreter_quant.invoke()\r\n",
        "    prediction = interpreter_quant.get_tensor(output_index)[0][0]\r\n",
        "    A3_preds.append(round(prediction))\r\n",
        "\r\n"
      ],
      "execution_count": null,
      "outputs": [
        {
          "output_type": "display_data",
          "data": {
            "application/vnd.jupyter.widget-view+json": {
              "model_id": "231a5162a0ef4fc1af2fb29915fd0558",
              "version_minor": 0,
              "version_major": 2
            },
            "text/plain": [
              "HBox(children=(FloatProgress(value=0.0, max=128.0), HTML(value='')))"
            ]
          },
          "metadata": {
            "tags": []
          }
        },
        {
          "output_type": "stream",
          "text": [
            "\n"
          ],
          "name": "stdout"
        },
        {
          "output_type": "display_data",
          "data": {
            "application/vnd.jupyter.widget-view+json": {
              "model_id": "9b7237ee6cb446fe8429d7545d5b3392",
              "version_minor": 0,
              "version_major": 2
            },
            "text/plain": [
              "HBox(children=(FloatProgress(value=0.0, max=31.0), HTML(value='')))"
            ]
          },
          "metadata": {
            "tags": []
          }
        },
        {
          "output_type": "stream",
          "text": [
            "\n"
          ],
          "name": "stdout"
        },
        {
          "output_type": "display_data",
          "data": {
            "application/vnd.jupyter.widget-view+json": {
              "model_id": "cbd3a917fc034b9bbdb86bd41d8a8c95",
              "version_minor": 0,
              "version_major": 2
            },
            "text/plain": [
              "HBox(children=(FloatProgress(value=0.0, max=27.0), HTML(value='')))"
            ]
          },
          "metadata": {
            "tags": []
          }
        },
        {
          "output_type": "stream",
          "text": [
            "\n"
          ],
          "name": "stdout"
        },
        {
          "output_type": "display_data",
          "data": {
            "application/vnd.jupyter.widget-view+json": {
              "model_id": "1f804f570e9145a79ae414bfe978f084",
              "version_minor": 0,
              "version_major": 2
            },
            "text/plain": [
              "HBox(children=(FloatProgress(value=0.0, max=624.0), HTML(value='')))"
            ]
          },
          "metadata": {
            "tags": []
          }
        },
        {
          "output_type": "error",
          "ename": "KeyboardInterrupt",
          "evalue": "ignored",
          "traceback": [
            "\u001b[0;31m---------------------------------------------------------------------------\u001b[0m",
            "\u001b[0;31mKeyboardInterrupt\u001b[0m                         Traceback (most recent call last)",
            "\u001b[0;32m<ipython-input-27-8fe8413b28d9>\u001b[0m in \u001b[0;36m<module>\u001b[0;34m()\u001b[0m\n\u001b[1;32m     34\u001b[0m     \u001b[0mimage\u001b[0m \u001b[0;34m=\u001b[0m \u001b[0mimage\u001b[0m\u001b[0;34m.\u001b[0m\u001b[0mreshape\u001b[0m\u001b[0;34m(\u001b[0m\u001b[0;36m1\u001b[0m\u001b[0;34m,\u001b[0m \u001b[0;36m256\u001b[0m\u001b[0;34m,\u001b[0m \u001b[0;36m256\u001b[0m\u001b[0;34m,\u001b[0m \u001b[0;36m3\u001b[0m\u001b[0;34m)\u001b[0m\u001b[0;34m\u001b[0m\u001b[0;34m\u001b[0m\u001b[0m\n\u001b[1;32m     35\u001b[0m     \u001b[0minterpreter_quant\u001b[0m\u001b[0;34m.\u001b[0m\u001b[0mset_tensor\u001b[0m\u001b[0;34m(\u001b[0m\u001b[0minput_index\u001b[0m\u001b[0;34m,\u001b[0m \u001b[0mnp\u001b[0m\u001b[0;34m.\u001b[0m\u001b[0marray\u001b[0m\u001b[0;34m(\u001b[0m\u001b[0mimage\u001b[0m\u001b[0;34m,\u001b[0m \u001b[0mdtype\u001b[0m\u001b[0;34m=\u001b[0m\u001b[0mnp\u001b[0m\u001b[0;34m.\u001b[0m\u001b[0mfloat32\u001b[0m\u001b[0;34m)\u001b[0m\u001b[0;34m)\u001b[0m\u001b[0;34m\u001b[0m\u001b[0;34m\u001b[0m\u001b[0m\n\u001b[0;32m---> 36\u001b[0;31m     \u001b[0minterpreter_quant\u001b[0m\u001b[0;34m.\u001b[0m\u001b[0minvoke\u001b[0m\u001b[0;34m(\u001b[0m\u001b[0;34m)\u001b[0m\u001b[0;34m\u001b[0m\u001b[0;34m\u001b[0m\u001b[0m\n\u001b[0m\u001b[1;32m     37\u001b[0m     \u001b[0mprediction\u001b[0m \u001b[0;34m=\u001b[0m \u001b[0minterpreter_quant\u001b[0m\u001b[0;34m.\u001b[0m\u001b[0mget_tensor\u001b[0m\u001b[0;34m(\u001b[0m\u001b[0moutput_index\u001b[0m\u001b[0;34m)\u001b[0m\u001b[0;34m[\u001b[0m\u001b[0;36m0\u001b[0m\u001b[0;34m]\u001b[0m\u001b[0;34m[\u001b[0m\u001b[0;36m0\u001b[0m\u001b[0;34m]\u001b[0m\u001b[0;34m\u001b[0m\u001b[0;34m\u001b[0m\u001b[0m\n\u001b[1;32m     38\u001b[0m     \u001b[0mA4_preds\u001b[0m\u001b[0;34m.\u001b[0m\u001b[0mappend\u001b[0m\u001b[0;34m(\u001b[0m\u001b[0mround\u001b[0m\u001b[0;34m(\u001b[0m\u001b[0mprediction\u001b[0m\u001b[0;34m)\u001b[0m\u001b[0;34m)\u001b[0m\u001b[0;34m\u001b[0m\u001b[0;34m\u001b[0m\u001b[0m\n",
            "\u001b[0;32m/usr/local/lib/python3.6/dist-packages/tensorflow/lite/python/interpreter.py\u001b[0m in \u001b[0;36minvoke\u001b[0;34m(self)\u001b[0m\n\u001b[1;32m    538\u001b[0m     \"\"\"\n\u001b[1;32m    539\u001b[0m     \u001b[0mself\u001b[0m\u001b[0;34m.\u001b[0m\u001b[0m_ensure_safe\u001b[0m\u001b[0;34m(\u001b[0m\u001b[0;34m)\u001b[0m\u001b[0;34m\u001b[0m\u001b[0;34m\u001b[0m\u001b[0m\n\u001b[0;32m--> 540\u001b[0;31m     \u001b[0mself\u001b[0m\u001b[0;34m.\u001b[0m\u001b[0m_interpreter\u001b[0m\u001b[0;34m.\u001b[0m\u001b[0mInvoke\u001b[0m\u001b[0;34m(\u001b[0m\u001b[0;34m)\u001b[0m\u001b[0;34m\u001b[0m\u001b[0;34m\u001b[0m\u001b[0m\n\u001b[0m\u001b[1;32m    541\u001b[0m \u001b[0;34m\u001b[0m\u001b[0m\n\u001b[1;32m    542\u001b[0m   \u001b[0;32mdef\u001b[0m \u001b[0mreset_all_variables\u001b[0m\u001b[0;34m(\u001b[0m\u001b[0mself\u001b[0m\u001b[0;34m)\u001b[0m\u001b[0;34m:\u001b[0m\u001b[0;34m\u001b[0m\u001b[0;34m\u001b[0m\u001b[0m\n",
            "\u001b[0;31mKeyboardInterrupt\u001b[0m: "
          ]
        }
      ]
    },
    {
      "cell_type": "code",
      "metadata": {
        "colab": {
          "base_uri": "https://localhost:8080/",
          "height": 151,
          "referenced_widgets": [
            "e5551f6fdbcb4b15b31d280cc3ee153d",
            "59ded57456e546b3a9e1eb426ddc6e5d",
            "4e2fcb0625bc49b08bfa105e61d9fd80",
            "c1f713e226c24567a3ff762912641414",
            "677a49da3b6d4593ac5a783d63cc169b",
            "85022de23ec04d0f80867261aa1b90fb",
            "33914d789642406f9afe0d2eb40c759b",
            "b93dc32edd4b435fba0bed5b0e03d694"
          ]
        },
        "id": "o3g77qZreUtA",
        "outputId": "a6900bbf-9a45-4c64-e385-2875bebfe4ca"
      },
      "source": [
        "A4_preds = []\r\n",
        "for image in tqdm(A4_images):\r\n",
        "    image = image.reshape(1, 256, 256, 3)\r\n",
        "    interpreter_quant.set_tensor(input_index, np.array(image, dtype=np.float32))\r\n",
        "    interpreter_quant.invoke()\r\n",
        "    prediction = interpreter_quant.get_tensor(output_index)[0][0]\r\n",
        "    A4_preds.append(round(prediction))\r\n",
        "\r\n",
        "mse_1 = get_MSE(A1_preds, A1_counts)\r\n",
        "\r\n",
        "mse_2 = get_MSE(A2_preds, A2_counts)\r\n",
        "\r\n",
        "mse_3 = get_MSE(A3_preds, A3_counts)\r\n",
        "\r\n",
        "mse_4 = get_MSE(A4_preds, A4_counts)\r\n",
        "\r\n",
        "avg_MSE = get_avg_MSE(mse_1, mse_2, mse_3, mse_4)\r\n",
        "\r\n",
        "print(\"MSE for A1: \", mse_1)\r\n",
        "print(\"MSE for A2: \", mse_2)\r\n",
        "print(\"MSE for A3: \", mse_3)\r\n",
        "print(\"MSE for A4: \", mse_4)\r\n",
        "print(\"Average MSE: \", avg_MSE)"
      ],
      "execution_count": null,
      "outputs": [
        {
          "output_type": "display_data",
          "data": {
            "application/vnd.jupyter.widget-view+json": {
              "model_id": "e5551f6fdbcb4b15b31d280cc3ee153d",
              "version_minor": 0,
              "version_major": 2
            },
            "text/plain": [
              "HBox(children=(FloatProgress(value=0.0, max=624.0), HTML(value='')))"
            ]
          },
          "metadata": {
            "tags": []
          }
        },
        {
          "output_type": "stream",
          "text": [
            "\n",
            "MSE for A1:  0.859375\n",
            "MSE for A2:  2.6774193548387095\n",
            "MSE for A3:  2.1481481481481484\n",
            "MSE for A4:  1.2163461538461537\n",
            "Average MSE:  1.725322164208253\n"
          ],
          "name": "stdout"
        }
      ]
    },
    {
      "cell_type": "markdown",
      "metadata": {
        "id": "VLskpZYWORQ0"
      },
      "source": [
        "## Results:"
      ]
    },
    {
      "cell_type": "code",
      "metadata": {
        "id": "AycyJnvcKFDe",
        "colab": {
          "base_uri": "https://localhost:8080/"
        },
        "outputId": "1ed1af28-31b9-4167-eb54-c6012c295866"
      },
      "source": [
        "from prettytable import PrettyTable\r\n",
        "\r\n",
        "x = PrettyTable(['Model_type', 'MSE on A1', 'MSE on A2', 'MSE on A3', 'MSE on A4', 'Average MSE'])\r\n",
        "x.add_row(['Unquantized_model', 0.7734, 2.8709, 2.0000, 1.2307, 1.7187])\r\n",
        "x.add_row(['Quantized_model', 0.8593, 2.6774, 2.1481, 1.2163, 1.7253])\r\n",
        "\r\n",
        "print(x)"
      ],
      "execution_count": null,
      "outputs": [
        {
          "output_type": "stream",
          "text": [
            "+-------------------+-----------+-----------+-----------+-----------+-------------+\n",
            "|     Model_type    | MSE on A1 | MSE on A2 | MSE on A3 | MSE on A4 | Average MSE |\n",
            "+-------------------+-----------+-----------+-----------+-----------+-------------+\n",
            "| Unquantized_model |   0.7734  |   2.8709  |    2.0    |   1.2307  |    1.7187   |\n",
            "|  Quantized_model  |   0.8593  |   2.6774  |   2.1481  |   1.2163  |    1.7253   |\n",
            "+-------------------+-----------+-----------+-----------+-----------+-------------+\n"
          ],
          "name": "stdout"
        }
      ]
    }
  ]
}